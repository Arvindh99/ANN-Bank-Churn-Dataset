{
  "nbformat": 4,
  "nbformat_minor": 0,
  "metadata": {
    "colab": {
      "provenance": [],
      "gpuType": "T4"
    },
    "kernelspec": {
      "name": "python3",
      "display_name": "Python 3"
    },
    "language_info": {
      "name": "python"
    },
    "accelerator": "GPU"
  },
  "cells": [
    {
      "cell_type": "code",
      "execution_count": null,
      "metadata": {
        "id": "aTNhjSWUh4VW"
      },
      "outputs": [],
      "source": [
        "!pip install tensorflow"
      ]
    },
    {
      "cell_type": "code",
      "source": [
        "import tensorflow as tf"
      ],
      "metadata": {
        "id": "fGQQtIxtikCB"
      },
      "execution_count": 2,
      "outputs": []
    },
    {
      "cell_type": "code",
      "source": [
        "print(tf.__version__)"
      ],
      "metadata": {
        "colab": {
          "base_uri": "https://localhost:8080/"
        },
        "id": "hSJNOEXBij_T",
        "outputId": "bd095eb3-63d2-4e79-e297-486fa3314934"
      },
      "execution_count": 3,
      "outputs": [
        {
          "output_type": "stream",
          "name": "stdout",
          "text": [
            "2.15.0\n"
          ]
        }
      ]
    },
    {
      "cell_type": "code",
      "source": [
        "import pandas as pd\n",
        "import numpy as np\n",
        "import matplotlib.pyplot as plt"
      ],
      "metadata": {
        "id": "FRoo3n9Mij8d"
      },
      "execution_count": 4,
      "outputs": []
    },
    {
      "cell_type": "code",
      "source": [
        "data = pd.read_csv(\"/content/Churn_Modelling.csv\")"
      ],
      "metadata": {
        "id": "Le4ew8_aij5Z"
      },
      "execution_count": 5,
      "outputs": []
    },
    {
      "cell_type": "code",
      "source": [
        "# splitting independent and dependent features\n",
        "X = data.iloc[:, 3:13] # first 3 columns are not required\n",
        "y = data.iloc[:, 13]"
      ],
      "metadata": {
        "id": "suhAFFqeij2G"
      },
      "execution_count": 7,
      "outputs": []
    },
    {
      "cell_type": "code",
      "source": [
        "#Create dummy variables\n",
        "geography=pd.get_dummies(X[\"Geography\"],drop_first=True)\n",
        "gender=pd.get_dummies(X['Gender'],drop_first=True)"
      ],
      "metadata": {
        "id": "d7_MEj-Dijyt"
      },
      "execution_count": 8,
      "outputs": []
    },
    {
      "cell_type": "code",
      "source": [
        "X=pd.concat([X,geography,gender],axis=1) # concatenate with train data"
      ],
      "metadata": {
        "id": "auosC5_uijvf"
      },
      "execution_count": 9,
      "outputs": []
    },
    {
      "cell_type": "code",
      "source": [
        "## Drop Unnecessary columns\n",
        "X=X.drop(['Geography','Gender'],axis=1)"
      ],
      "metadata": {
        "id": "RXk5GsY3ijiY"
      },
      "execution_count": 10,
      "outputs": []
    },
    {
      "cell_type": "code",
      "source": [
        "from sklearn.model_selection import train_test_split\n",
        "X_train, X_test, y_train, y_test = train_test_split(X, y, test_size = 0.2, random_state = 0)"
      ],
      "metadata": {
        "id": "0k4poxy2-fQc"
      },
      "execution_count": 11,
      "outputs": []
    },
    {
      "cell_type": "code",
      "source": [
        "# Feature Scaling\n",
        "from sklearn.preprocessing import StandardScaler\n",
        "sc = StandardScaler()\n",
        "X_train = sc.fit_transform(X_train)\n",
        "X_test = sc.transform(X_test)"
      ],
      "metadata": {
        "id": "P-C48qmZ-fMl"
      },
      "execution_count": 12,
      "outputs": []
    },
    {
      "cell_type": "code",
      "source": [
        "from tensorflow.keras.models import Sequential\n",
        "from tensorflow.keras.layers import Dense\n",
        "from tensorflow.keras.layers import LeakyReLU,PReLU,ELU\n",
        "from tensorflow.keras.layers import Dropout"
      ],
      "metadata": {
        "id": "-KQgne-q-fFD"
      },
      "execution_count": 13,
      "outputs": []
    },
    {
      "cell_type": "code",
      "source": [
        "classifier = Sequential()"
      ],
      "metadata": {
        "id": "DlI3lK26-e_5"
      },
      "execution_count": 14,
      "outputs": []
    },
    {
      "cell_type": "code",
      "source": [
        "classifier.add(Dense(units=11,activation='relu')) # input layer"
      ],
      "metadata": {
        "id": "zaprvwzX-e2P"
      },
      "execution_count": 15,
      "outputs": []
    },
    {
      "cell_type": "code",
      "source": [
        "classifier.add(Dense(units=6,activation='relu')) # hidden layer"
      ],
      "metadata": {
        "id": "IXFDOyL9-s-J"
      },
      "execution_count": 16,
      "outputs": []
    },
    {
      "cell_type": "code",
      "source": [
        "classifier.add(Dense(units=1,activation='sigmoid')) # output layer"
      ],
      "metadata": {
        "id": "0h6xlhIY-s7Y"
      },
      "execution_count": 17,
      "outputs": []
    },
    {
      "cell_type": "code",
      "source": [
        "classifier.compile(optimizer='adam',loss='binary_crossentropy',metrics=['accuracy'])"
      ],
      "metadata": {
        "id": "hq-U3qoy-s3m"
      },
      "execution_count": 18,
      "outputs": []
    },
    {
      "cell_type": "code",
      "source": [
        "early_stopping = tf.keras.callbacks.EarlyStopping(\n",
        "monitor='accuracy',\n",
        "min_delta=0.0001,\n",
        "patience=20,\n",
        "verbose=1,\n",
        "mode='auto',\n",
        "baseline=None,\n",
        "restore_best_weights=False,\n",
        "start_from_epoch=0\n",
        ")"
      ],
      "metadata": {
        "id": "PKcVPV-t-ss-"
      },
      "execution_count": 28,
      "outputs": []
    },
    {
      "cell_type": "code",
      "source": [
        "#model_history=classifier.fit(X_train,y_train,validation_split=0.33,batch_size=10,epochs=50, callbacks = early_stopping)\n",
        "model_history=classifier.fit(X_train,y_train,batch_size=10,epochs=50, callbacks = early_stopping)"
      ],
      "metadata": {
        "colab": {
          "base_uri": "https://localhost:8080/"
        },
        "id": "9i_L6rLJ-sq4",
        "outputId": "01cc09d9-65ad-42e0-9fcb-e5767697b03f"
      },
      "execution_count": 29,
      "outputs": [
        {
          "output_type": "stream",
          "name": "stdout",
          "text": [
            "Epoch 1/50\n",
            "800/800 [==============================] - 3s 3ms/step - loss: 0.3221 - accuracy: 0.8664\n",
            "Epoch 2/50\n",
            "800/800 [==============================] - 3s 3ms/step - loss: 0.3227 - accuracy: 0.8665\n",
            "Epoch 3/50\n",
            "800/800 [==============================] - 3s 4ms/step - loss: 0.3226 - accuracy: 0.8676\n",
            "Epoch 4/50\n",
            "800/800 [==============================] - 3s 3ms/step - loss: 0.3222 - accuracy: 0.8659\n",
            "Epoch 5/50\n",
            "800/800 [==============================] - 3s 3ms/step - loss: 0.3226 - accuracy: 0.8664\n",
            "Epoch 6/50\n",
            "800/800 [==============================] - 3s 3ms/step - loss: 0.3213 - accuracy: 0.8680\n",
            "Epoch 7/50\n",
            "800/800 [==============================] - 3s 4ms/step - loss: 0.3217 - accuracy: 0.8685\n",
            "Epoch 8/50\n",
            "800/800 [==============================] - 3s 3ms/step - loss: 0.3213 - accuracy: 0.8671\n",
            "Epoch 9/50\n",
            "800/800 [==============================] - 3s 3ms/step - loss: 0.3216 - accuracy: 0.8668\n",
            "Epoch 10/50\n",
            "800/800 [==============================] - 3s 3ms/step - loss: 0.3216 - accuracy: 0.8684\n",
            "Epoch 11/50\n",
            "800/800 [==============================] - 3s 4ms/step - loss: 0.3213 - accuracy: 0.8683\n",
            "Epoch 12/50\n",
            "800/800 [==============================] - 3s 4ms/step - loss: 0.3214 - accuracy: 0.8685\n",
            "Epoch 13/50\n",
            "800/800 [==============================] - 3s 3ms/step - loss: 0.3215 - accuracy: 0.8670\n",
            "Epoch 14/50\n",
            "800/800 [==============================] - 3s 3ms/step - loss: 0.3211 - accuracy: 0.8691\n",
            "Epoch 15/50\n",
            "800/800 [==============================] - 3s 3ms/step - loss: 0.3209 - accuracy: 0.8659\n",
            "Epoch 16/50\n",
            "800/800 [==============================] - 3s 4ms/step - loss: 0.3207 - accuracy: 0.8679\n",
            "Epoch 17/50\n",
            "800/800 [==============================] - 3s 3ms/step - loss: 0.3208 - accuracy: 0.8675\n",
            "Epoch 18/50\n",
            "800/800 [==============================] - 3s 3ms/step - loss: 0.3203 - accuracy: 0.8685\n",
            "Epoch 19/50\n",
            "800/800 [==============================] - 3s 3ms/step - loss: 0.3208 - accuracy: 0.8680\n",
            "Epoch 20/50\n",
            "800/800 [==============================] - 3s 4ms/step - loss: 0.3206 - accuracy: 0.8669\n",
            "Epoch 21/50\n",
            "800/800 [==============================] - 3s 4ms/step - loss: 0.3204 - accuracy: 0.8673\n",
            "Epoch 22/50\n",
            "800/800 [==============================] - 3s 3ms/step - loss: 0.3206 - accuracy: 0.8685\n",
            "Epoch 23/50\n",
            "800/800 [==============================] - 3s 3ms/step - loss: 0.3204 - accuracy: 0.8685\n",
            "Epoch 24/50\n",
            "800/800 [==============================] - 3s 3ms/step - loss: 0.3206 - accuracy: 0.8683\n",
            "Epoch 25/50\n",
            "800/800 [==============================] - 3s 4ms/step - loss: 0.3202 - accuracy: 0.8684\n",
            "Epoch 26/50\n",
            "800/800 [==============================] - 3s 3ms/step - loss: 0.3203 - accuracy: 0.8674\n",
            "Epoch 27/50\n",
            "800/800 [==============================] - 3s 4ms/step - loss: 0.3199 - accuracy: 0.8686\n",
            "Epoch 28/50\n",
            "800/800 [==============================] - 2s 3ms/step - loss: 0.3202 - accuracy: 0.8671\n",
            "Epoch 29/50\n",
            "800/800 [==============================] - 3s 4ms/step - loss: 0.3200 - accuracy: 0.8679\n",
            "Epoch 30/50\n",
            "800/800 [==============================] - 2s 3ms/step - loss: 0.3203 - accuracy: 0.8679\n",
            "Epoch 31/50\n",
            "800/800 [==============================] - 2s 3ms/step - loss: 0.3195 - accuracy: 0.8686\n",
            "Epoch 32/50\n",
            "800/800 [==============================] - 2s 3ms/step - loss: 0.3206 - accuracy: 0.8696\n",
            "Epoch 33/50\n",
            "800/800 [==============================] - 3s 3ms/step - loss: 0.3192 - accuracy: 0.8670\n",
            "Epoch 34/50\n",
            "800/800 [==============================] - 3s 4ms/step - loss: 0.3191 - accuracy: 0.8685\n",
            "Epoch 35/50\n",
            "800/800 [==============================] - 2s 3ms/step - loss: 0.3202 - accuracy: 0.8700\n",
            "Epoch 36/50\n",
            "800/800 [==============================] - 3s 3ms/step - loss: 0.3195 - accuracy: 0.8673\n",
            "Epoch 37/50\n",
            "800/800 [==============================] - 2s 3ms/step - loss: 0.3196 - accuracy: 0.8686\n",
            "Epoch 38/50\n",
            "800/800 [==============================] - 4s 5ms/step - loss: 0.3192 - accuracy: 0.8681\n",
            "Epoch 39/50\n",
            "800/800 [==============================] - 3s 3ms/step - loss: 0.3198 - accuracy: 0.8677\n",
            "Epoch 40/50\n",
            "800/800 [==============================] - 3s 3ms/step - loss: 0.3196 - accuracy: 0.8685\n",
            "Epoch 41/50\n",
            "800/800 [==============================] - 3s 3ms/step - loss: 0.3192 - accuracy: 0.8704\n",
            "Epoch 42/50\n",
            "800/800 [==============================] - 3s 4ms/step - loss: 0.3195 - accuracy: 0.8698\n",
            "Epoch 43/50\n",
            "800/800 [==============================] - 3s 4ms/step - loss: 0.3195 - accuracy: 0.8690\n",
            "Epoch 44/50\n",
            "800/800 [==============================] - 3s 3ms/step - loss: 0.3189 - accuracy: 0.8712\n",
            "Epoch 45/50\n",
            "800/800 [==============================] - 3s 3ms/step - loss: 0.3198 - accuracy: 0.8698\n",
            "Epoch 46/50\n",
            "800/800 [==============================] - 2s 3ms/step - loss: 0.3192 - accuracy: 0.8702\n",
            "Epoch 47/50\n",
            "800/800 [==============================] - 3s 4ms/step - loss: 0.3194 - accuracy: 0.8676\n",
            "Epoch 48/50\n",
            "800/800 [==============================] - 2s 3ms/step - loss: 0.3194 - accuracy: 0.8683\n",
            "Epoch 49/50\n",
            "800/800 [==============================] - 2s 3ms/step - loss: 0.3195 - accuracy: 0.8698\n",
            "Epoch 50/50\n",
            "800/800 [==============================] - 3s 3ms/step - loss: 0.3191 - accuracy: 0.8700\n"
          ]
        }
      ]
    },
    {
      "cell_type": "code",
      "source": [
        "y_pred = classifier.predict(X_test)\n",
        "y_pred = (y_pred > 0.5)"
      ],
      "metadata": {
        "colab": {
          "base_uri": "https://localhost:8080/"
        },
        "id": "nHjJo6sw-smg",
        "outputId": "fecd1506-7f11-47c6-ab27-da7f7268b041"
      },
      "execution_count": 30,
      "outputs": [
        {
          "output_type": "stream",
          "name": "stdout",
          "text": [
            "63/63 [==============================] - 0s 1ms/step\n"
          ]
        }
      ]
    },
    {
      "cell_type": "code",
      "source": [
        "from sklearn.metrics import confusion_matrix\n",
        "cm = confusion_matrix(y_test, y_pred)\n",
        "cm"
      ],
      "metadata": {
        "colab": {
          "base_uri": "https://localhost:8080/"
        },
        "id": "LiRbCgHrAGZq",
        "outputId": "e056d3d3-5cdd-466a-a4d2-18b2ba085f04"
      },
      "execution_count": 31,
      "outputs": [
        {
          "output_type": "execute_result",
          "data": {
            "text/plain": [
              "array([[1510,   85],\n",
              "       [ 193,  212]])"
            ]
          },
          "metadata": {},
          "execution_count": 31
        }
      ]
    },
    {
      "cell_type": "code",
      "source": [
        "from sklearn.metrics import accuracy_score\n",
        "score=accuracy_score(y_pred,y_test)\n",
        "score"
      ],
      "metadata": {
        "colab": {
          "base_uri": "https://localhost:8080/"
        },
        "id": "fa9w7AcLAGU5",
        "outputId": "6c3e4f63-a933-4ae2-a79e-5da322e7c32f"
      },
      "execution_count": 32,
      "outputs": [
        {
          "output_type": "execute_result",
          "data": {
            "text/plain": [
              "0.861"
            ]
          },
          "metadata": {},
          "execution_count": 32
        }
      ]
    }
  ]
}